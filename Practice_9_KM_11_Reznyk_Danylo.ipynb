{
  "cells": [
    {
      "cell_type": "markdown",
      "metadata": {
        "id": "FMqboNwO4rVs"
      },
      "source": [
        "# **Курс \"Програмування на мові Python\"**"
      ]
    },
    {
      "cell_type": "markdown",
      "metadata": {
        "id": "A2T6MigL5Z06"
      },
      "source": [
        "## **Практичне зайняття №9**\n",
        "\n",
        "### Тема: \"Робота з функціями. Локальні та глобальні змінні\""
      ]
    },
    {
      "cell_type": "markdown",
      "metadata": {
        "id": "cfCdgK2zXm7e"
      },
      "source": [
        "### **Завдання 1 (3 бали)**\n",
        "\n",
        "**Підрахувати визначник матриці, використовуючи правило перестановок.**\n",
        "\n",
        "Функція random_matrix() призначена для створення квадратної матриці випадкових чисел. Її змінювати непотрібно.\n",
        "\n",
        "Приклад використання методу permutations() для створення списку перестановок також подається у комірці з кодом.\n",
        "\n",
        "1) Створити 3 функції: функцію створення списку перестановок, функцію підрахунку добутків та функцію підрахунку загальної суми.\n",
        "\n",
        "2) Кожна функція має супроводжуватись рядком документації, що буде коротко описувати її призначення.\n",
        "\n",
        "3) Розмірність квадратної матриці має вводитись користувачем з клавіатури. Підрахунки виконувати лише в тому разі, якщо користувач введе ціле додатне число.\n",
        "\n",
        "4) Загальний результат повинен підраховуватись за допомогою композиції функцій.\n",
        "\n",
        "За бажанням можна перевірити правильність роботи програми за допомогою функції np.linalg.det(a)."
      ]
    },
    {
      "cell_type": "code",
      "execution_count": 8,
      "metadata": {
        "id": "ifNX2M7LXm7f"
      },
      "outputs": [
        {
          "name": "stdout",
          "output_type": "stream",
          "text": [
            "Your matrix: \n",
            " [[9 2 0 7 8 4 5 2 3 7]\n",
            " [0 7 8 9 6 7 7 6 5 0]\n",
            " [2 8 4 5 5 5 3 2 5 1]\n",
            " [3 5 8 5 7 4 5 7 6 5]\n",
            " [5 3 4 7 5 1 0 9 2 6]\n",
            " [7 0 5 6 2 6 1 5 5 5]\n",
            " [1 8 6 0 7 8 6 6 2 7]\n",
            " [4 7 5 0 0 2 6 9 1 5]\n",
            " [8 7 0 9 5 5 3 8 2 2]\n",
            " [0 4 6 9 5 6 1 8 5 8]]\n",
            "Determinant of your matrix:  273225456\n",
            "Determinant of your matrix by using library numpy:  273225456\n"
          ]
        }
      ],
      "source": [
        "import numpy as np\n",
        "import itertools\n",
        "\n",
        "def random_matrix(dim):\n",
        "    \"\"\"\n",
        "    The function generates dim x dim array of integers\n",
        "    between 0 and 10.\n",
        "    \"\"\"\n",
        "    matrix = np.random.randint(10, size = (dim, dim))\n",
        "    return matrix\n",
        "\n",
        "def check_n():\n",
        "    \"\"\" \n",
        "    The function to enter the correct size of matrix\n",
        "    \"\"\"\n",
        "    a=True\n",
        "    while a:\n",
        "        try:\n",
        "            n=int(input(\"Please, enter size your matrix: \"))\n",
        "            if n<1:\n",
        "                print(\"You entered a number less than 1, please try again \")\n",
        "            else: \n",
        "                a=False\n",
        "        except ValueError:\n",
        "            print(\"You entered not integer number, please try again\")\n",
        "        except Exception:\n",
        "            print(\"Sorry, an unknown error has occurred, please try again\")\n",
        "    return n\n",
        "n=check_n()\n",
        "matrix=random_matrix(n)\n",
        "print(\"Your matrix: \\n\", matrix)\n",
        "def permutations(x):\n",
        "    \"\"\"\n",
        "    The function make permutations of matrix elements\n",
        "    \"\"\"\n",
        "    per = list(itertools.permutations([str(i) for i in range(1,x+1)], x))\n",
        "    return per\n",
        "def dob(inv):\n",
        "    \"\"\"\n",
        "    The function counts the multiplication of elements\n",
        "    \"\"\"\n",
        "    global matrix\n",
        "    mult=[]\n",
        "    for a in inv:\n",
        "        part,num=1,0\n",
        "        for k in range(len(a)):\n",
        "            for i in range(k+1):\n",
        "                if a[i]>a[k]:\n",
        "                    num+=1\n",
        "        for i in range(len(a)):\n",
        "            part = part*int(matrix[i][int(a[i])-1])\n",
        "        mult.append(pow(-1,num)*part)\n",
        "    return mult\n",
        "def sum(lis):\n",
        "    \"\"\"\n",
        "    The function counts the sum of multiplications elements\n",
        "    \"\"\"\n",
        "    s=0\n",
        "    for i in lis:\n",
        "        s+=i\n",
        "    return s\n",
        "print(\"Determinant of your matrix: \", sum(dob(permutations(n))))\n",
        "print(\"Determinant of your matrix by using library numpy: \", round(np.linalg.det(matrix)))"
      ]
    }
  ],
  "metadata": {
    "colab": {
      "collapsed_sections": [],
      "name": "Practice_7_KM-01_.ipynb",
      "provenance": []
    },
    "interpreter": {
      "hash": "387b9722d4618ce0b3faf597c188ef564db5ebdc272f28cca2ab60dbd6c8af44"
    },
    "kernelspec": {
      "display_name": "Python 3.9.1 64-bit",
      "name": "python3"
    },
    "language_info": {
      "codemirror_mode": {
        "name": "ipython",
        "version": 3
      },
      "file_extension": ".py",
      "mimetype": "text/x-python",
      "name": "python",
      "nbconvert_exporter": "python",
      "pygments_lexer": "ipython3",
      "version": "3.9.1"
    }
  },
  "nbformat": 4,
  "nbformat_minor": 0
}
