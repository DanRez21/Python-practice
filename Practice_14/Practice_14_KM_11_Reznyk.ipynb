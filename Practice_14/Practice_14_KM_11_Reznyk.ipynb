{
  "cells": [
    {
      "cell_type": "markdown",
      "metadata": {
        "id": "FMqboNwO4rVs"
      },
      "source": [
        "# **Курс \"Програмування на мові Python\"**"
      ]
    },
    {
      "cell_type": "markdown",
      "metadata": {
        "id": "A2T6MigL5Z06"
      },
      "source": [
        "## **Практичне зайняття №14**\n",
        "\n",
        "### Тема: \"Робота зі спеціальними форматами файлів\""
      ]
    },
    {
      "cell_type": "markdown",
      "metadata": {
        "id": "A34oz70eU463"
      },
      "source": [
        "### **Завдання 1 (1,5 бали)**\n",
        "\n",
        "Створіть CSV-файл, що буде містити від 5 до 10 пісень (творів) вашого улюбленого музиканта. Назва файлу - ім'я музиканта (композитора) або назва гурту.\n",
        "\n",
        "1. Обов'язково додайте до файлу рядок з назвами двох колонок (Song, Year) або (Composition, Year).\n",
        "\n",
        "2. Після запису файлу роздрукуйте назву файлу та усі наявні у файлі рядки (включно із заголовками).\n",
        "\n",
        "3. Для запису та зчитування рядків скористайтесь функціями csv.DictWriter() та csv.DictReader()."
      ]
    },
    {
      "cell_type": "code",
      "execution_count": 7,
      "metadata": {
        "id": "MEJIrG1GU463"
      },
      "outputs": [
        {
          "name": "stdout",
          "output_type": "stream",
          "text": [
            "Song Year \n",
            "To Hell and Back 2014\n",
            "The Last Stand 2016\n",
            "Primo Victoria 2005\n",
            "The Red Baron 2019\n",
            "Night Witches 2014\n",
            "Bismarck 2019\n",
            "Resist and Bite 2014\n",
            "The Attack of Dead Men 2019\n",
            "Great War 2019\n",
            "Panzerkampf 2008\n"
          ]
        }
      ],
      "source": [
        "import csv\n",
        "\n",
        "with open('Sabaton.csv', 'w', newline='') as csvfile:\n",
        "    fieldnames = ['Song', 'Year']\n",
        "    writer = csv.DictWriter(csvfile, fieldnames = fieldnames)\n",
        "    writer.writeheader()\n",
        "    writer.writerow({'Song': 'To Hell and Back',\n",
        "                     'Year': '2014'})\n",
        "    writer.writerow({'Song': 'The Last Stand',\n",
        "                     'Year': '2016'})\n",
        "    writer.writerow({'Song': 'Primo Victoria',\n",
        "                     'Year': '2005'})\n",
        "    writer.writerow({'Song': 'The Red Baron',\n",
        "                     'Year': '2019'})\n",
        "    writer.writerow({'Song': 'Night Witches',\n",
        "                     'Year': '2014'})\n",
        "    writer.writerow({'Song': 'Bismarck',\n",
        "                     'Year': '2019'})\n",
        "    writer.writerow({'Song': 'Resist and Bite',\n",
        "                     'Year': '2014'})\n",
        "    writer.writerow({'Song': 'The Attack of Dead Men',\n",
        "                     'Year': '2019'})\n",
        "    writer.writerow({'Song': 'Great War',\n",
        "                     'Year': '2019'})\n",
        "    writer.writerow({'Song': 'Panzerkampf',\n",
        "                     'Year': '2008'})\n",
        "    \n",
        "with open('Sabaton.csv', 'r', newline='') as csvfile:\n",
        "    reader = csv.DictReader(csvfile)\n",
        "    for heading in reader.fieldnames:\n",
        "        print(heading, end = ' ')\n",
        "    print()\n",
        "    for row in reader:\n",
        "        print(row['Song'], row['Year'])\n"
      ]
    },
    {
      "cell_type": "markdown",
      "metadata": {
        "id": "Jb-eSBsWU464"
      },
      "source": [
        "### **Завдання 2 (1,5 бали)**\n",
        "\n",
        "COCO Dataset - набір фотографій та анотацій до них. Його дуже часто використовують для тренування класифікаторів, призначених для розпізнавання об'єктів та визначення ключових точок на зображеннях.\n",
        "\n",
        "Завантажте файли з описом фотографій COCO Dataset за посиланням: [COCO Dataset](http://images.cocodataset.org/annotations/image_info_test2017.zip).\n",
        "\n",
        "Відкрийте файл image_info_test-dev2017.json. Інформація про фотографії з бази COCO міститься у полі \"images\". Інформація про категорії, на які розділені всі фотографії, міститься у полі \"categories\".\n",
        "\n",
        "1. Визначте кількість фотографій, інформацію про які можна знайти у цьому файлі (кількість елементів, що відповідають ключу \"images\").\n",
        "\n",
        "2. Визначте кількість наявних категорій (кількість елементів, що відповідають ключу \"categories\").\n",
        "\n",
        "3. Виведіть посилання на фотографію 000000000001.jpg (\"coco_url\"). Також виведіть висоту цієї фотографії (\"height\"), ширину (\"width\") та її ідентифікатор (\"id\").\n",
        "\n",
        "4. Виведіть назву фотографії з набільшим номером.\n",
        "\n",
        "Опис структури JSON-файлу для набору фотографій COCO можна знайти за посиланням: [Data format](https://cocodataset.org/#format-data).\n",
        "\n",
        "Щоб перевірити правильність результатів, у VS Code встановіть розширення JSON та відкрийте файл image_info_test-dev2017.json. Розширення автоматично визначає кількість елементів у кожному полі."
      ]
    },
    {
      "cell_type": "code",
      "execution_count": 1,
      "metadata": {},
      "outputs": [
        {
          "name": "stdout",
          "output_type": "stream",
          "text": [
            "Number of images:  20288\n",
            "Number of categories:  80\n",
            "Coco_url of image:  http://images.cocodataset.org/test2017/000000000001.jpg\n",
            "Height of image :  480\n",
            "Width of image:  640\n",
            "Id of image:  1\n",
            "Image with the highest number:  000000581918.jpg\n"
          ]
        }
      ],
      "source": [
        "import json\n",
        "\n",
        "with open('image_info_test-dev2017.json') as image:\n",
        "    images = json.load(image)\n",
        "    print('Number of images: ', len(images['images']))\n",
        "    print('Number of categories: ', len(images['categories']))\n",
        "    max = 0\n",
        "    for index in range(len(images['images'])):\n",
        "        rows = images['images'][index]\n",
        "        if rows['file_name'] == '000000000001.jpg':\n",
        "            print('Coco_url of image: ', rows['coco_url'])\n",
        "            print('Height of image : ', rows['height'])\n",
        "            print('Width of image: ', rows['width'])\n",
        "            print('Id of image: ', rows['id'])\n",
        "        if rows['id'] > max:\n",
        "            max = rows['id']\n",
        "    print('Image with the highest number: ', '0'*(12-len(str(max))) + str(max) + '.jpg')"
      ]
    }
  ],
  "metadata": {
    "colab": {
      "collapsed_sections": [],
      "name": "Practice_14_KM_01.ipynb",
      "provenance": []
    },
    "kernelspec": {
      "display_name": "Python 3",
      "name": "python3"
    },
    "language_info": {
      "codemirror_mode": {
        "name": "ipython",
        "version": 3
      },
      "file_extension": ".py",
      "mimetype": "text/x-python",
      "name": "python",
      "nbconvert_exporter": "python",
      "pygments_lexer": "ipython3",
      "version": "3.9.1"
    }
  },
  "nbformat": 4,
  "nbformat_minor": 0
}
