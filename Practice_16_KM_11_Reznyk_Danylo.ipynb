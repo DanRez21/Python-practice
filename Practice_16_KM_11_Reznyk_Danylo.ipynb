{
  "cells": [
    {
      "cell_type": "markdown",
      "metadata": {
        "id": "FMqboNwO4rVs"
      },
      "source": [
        "# **Курс \"Програмування на мові Python\"**"
      ]
    },
    {
      "cell_type": "markdown",
      "metadata": {
        "id": "A2T6MigL5Z06"
      },
      "source": [
        "## **Практичне зайняття №16**\n",
        "\n",
        "### Тема: \"Декоратори\""
      ]
    },
    {
      "cell_type": "markdown",
      "metadata": {},
      "source": [
        "### **Завдання 1 (1,5 бали)**\n",
        "\n",
        "Реалізуйте підрахунок площі трикутника з використанням декоратора, який перевірятиме можливість побудови трикутника з трьох введених користувачем сторін.\n",
        "\n",
        "1. Напишіть функцію area_calculation, яка підраховуватиме площу трикутника за трьома сторонами. Для підрахунку можете скористатись формулою Герона.\n",
        "\n",
        "2. Напишіть функцію check, яка перевірятиме правильність введених користувачем значень (значення мають бути додатними числами, не обов'язково цілими).\n",
        "\n",
        "3. Створіть декоратор triangle_ineq, який перевірятиме виконання нерівності трикутрика для трьох заданих користувачем сторін. Навісьте декоратор triangle_ineq на функція area_calculation та перевірте правильність роботи програми."
      ]
    },
    {
      "cell_type": "code",
      "execution_count": 33,
      "metadata": {
        "id": "yiRr2CqMWxLA"
      },
      "outputs": [
        {
          "name": "stdout",
          "output_type": "stream",
          "text": [
            "This triangle doesn't exist.\n"
          ]
        }
      ],
      "source": [
        "from math import *\n",
        "def inputs(a):\n",
        "    c = input(f\"Please, enter the {a} side of triangle\")\n",
        "    return c\n",
        "\n",
        "def triangle_ineq(func):\n",
        "    def wrap(a, b, c):\n",
        "        if check(a, b, c) == True:\n",
        "            a, b, c = float(a), float(b), float(c)\n",
        "            if c < a + b and a < b + c and b < c + a:\n",
        "                return \"Area of triangle = \" + str(func(a, b, c))\n",
        "            return \"This triangle doesn't exist.\"\n",
        "        return \"One of the sides is entered incorrectly.\"\n",
        "    return wrap\n",
        "\n",
        "def check(a, b, c):\n",
        "    try:\n",
        "        a, b, c = float(a), float(b), float(c)\n",
        "    except ValueError:\n",
        "        return False\n",
        "    else:\n",
        "        if a < 0 or b < 0 or c < 0:\n",
        "            return False\n",
        "    return True\n",
        "\n",
        "@triangle_ineq\n",
        "def area_calculation(a, b, c):\n",
        "    p = (a + b + c) / 2\n",
        "    return round(sqrt(p*(p-a)*(p-b)*(p-c)), 4)\n",
        "\n",
        "print(area_calculation(inputs(\"a\"), inputs(\"b\"), inputs(\"c\")))\n"
      ]
    },
    {
      "cell_type": "markdown",
      "metadata": {},
      "source": [
        "### **Завдання 2 (1,5 бали)**\n",
        "\n",
        "Більшість друкованих книг (особливо це стосується книг у твердій палітурці) складаються із зошитів. Припустимо, що в друкарні текст друкується на листах паперу удвічі більших за звичайний книжковий формат. Потім ці листи складаються вдвічі, з них формуються зошити, які потім зшиваються у блок.\n",
        "\n",
        "Розглянемо конкретний приклад.\n",
        "\n",
        "Припустимо, що кожен зшитий зошит нашої книги складається з 8 листів (16 сторінок). Якщо уявити великі листи, з яких потім складаються зошити, то на кожному таком листі буде по 4 сторінки книги. У нашій книзі таких великих листів буде 4. Розглянемо перший лист. З одного боку на ньому будуть надруковані сторінки 16 та 1, з іншого - 2 та 15. На другому листі з одного боку будуть надруковані сторінки 14 та 3, з іншого - 4 та 13.\n",
        "\n",
        "**Написати програму, яка визначатиме послідовність сторінок, що будуть надруковані на кожному великому листі.**\n",
        "\n",
        "1. Користувач має вводити з клавіатури кількість сторінок у книзі (не більше 1280).\n",
        "\n",
        "2. Зверніть увагу на те, що загальна кількість сторінок у книзі має бути кратною кількості сторінок у зошиті. Якщо користувач введе число, що не задовольняє цій умові, програма повинна запропонувати користувачеві ввесте інше значення.\n",
        "\n",
        "3. Зверніть увагу на те, що на великих листах поворот аркуша відбувається за коротким краєм. Отже, якщо з одного боку аркуша надруковано сторінки 16 та 1, то з іншого 2 та 15 (а не 15, 2), якщо дивитись зліва направо.\n",
        "\n",
        "4. Функція, яка визначатиме послідовність книжкових сторінок, має виводити на екран рядок за рядком номери сторінок кожного зошита, а також кількість зошитів у книзі.\n",
        "\n",
        "5. Створіть декоратор з параметром, що прийматиме на вхід аргументи False або True, та навісьте цей декоратор на попередню функцію. Якщо параметр дорівнює False, додаткові функції декоратора не повинні виконуватись, тобто має виконатись лише функція з п. 4. Якщо параметр дорівнює True, декоратор повинен створювати список усіх сторінок у потрібній послідовності та роздруковувати його. Номери сторінок кожного зошита мають зберігатись в окремому вкладеному списку. Для 16-сторінкового зошита список повинен мати вигляд:\n",
        "\n",
        "`[[16, 1, 2, 15, 14, 3, 4, 13, ..., 10, 7, 8, 9], [32, 17, 18, 31, ...], ... ]`\n",
        "\n",
        "**Бонусне завдання (за бажанням)**\n",
        "\n",
        "6. Замість функції з п. 4 створіть генератор, який буде визначати послідовність книжкових сторінок для кожного зошита. Ці рядки можна потім вивести або у циклі, або за допомогою функції next(). Функція-декоратор має працювати з цим генератором так само, як і зі звичайною функцією."
      ]
    },
    {
      "cell_type": "code",
      "execution_count": 20,
      "metadata": {},
      "outputs": [
        {
          "name": "stdout",
          "output_type": "stream",
          "text": [
            "Without generator: \n",
            "Amount of notebooks:  2.0\n",
            "[16, 1, 2, 15, 14, 3, 4, 13, 12, 5, 6, 11, 10, 7, 8, 9]\n",
            "[32, 17, 18, 31, 30, 19, 20, 29, 28, 21, 22, 27, 26, 23, 24, 25]\n",
            "With generator: \n",
            "Amount of notebooks:  2.0\n",
            "All book:  [[16, 1, 2, 15, 14, 3, 4, 13, 12, 5, 6, 11, 10, 7, 8, 9], [32, 17, 18, 31, 30, 19, 20, 29, 28, 21, 22, 27, 26, 23, 24, 25]]\n"
          ]
        }
      ],
      "source": [
        "while True:\n",
        "    n = input(\"Please, enter number of pages: \")\n",
        "    if n.isdigit() and int(n) <= 1280 and int(n) % 16 == 0:\n",
        "        n = int(n)\n",
        "        break\n",
        "    print(\"Uncorrect number of pages\")\n",
        "    \n",
        "def register(active = True):\n",
        "    def wrap(func):\n",
        "        def wrapper(n):\n",
        "            if active:\n",
        "                zag = []\n",
        "                for j in func(n):\n",
        "                    zag.append(j)\n",
        "                print(\"All book: \", zag)\n",
        "            else:\n",
        "                for i in func(n):\n",
        "                    print(i)\n",
        "        return wrapper\n",
        "    return wrap\n",
        "\n",
        "@register(active = True)\n",
        "def generation(pages):\n",
        "    print(\"Amount of notebooks: \", pages/16)\n",
        "    for zosh in range(1, int(pages/16) + 1):\n",
        "        azosh = []\n",
        "        for i in range(0, 8, 2):\n",
        "            azosh.append(zosh*16 - i)\n",
        "            azosh.append(zosh*16 + i - 15)\n",
        "            azosh.append(zosh*16 + i - 14)\n",
        "            azosh.append(zosh*16 - i - 1)\n",
        "        yield azosh\n",
        "\n",
        "@register(active = False)\n",
        "def wrap(pages):\n",
        "    print(\"Amount of notebooks: \", pages/16)\n",
        "    final = []\n",
        "    for zosh in range(1, int(pages/16) + 1):\n",
        "        azosh = []\n",
        "        for i in range(0, 8, 2):\n",
        "            azosh.append(zosh*16 - i)\n",
        "            azosh.append(zosh*16 + i - 15)\n",
        "            azosh.append(zosh*16 + i - 14)\n",
        "            azosh.append(zosh*16 - i - 1)\n",
        "        final.append(azosh)\n",
        "    return final\n",
        "print(\"Without generator: \")\n",
        "wrap(n)\n",
        "print(\"With generator: \")\n",
        "generation(n)"
      ]
    }
  ],
  "metadata": {
    "colab": {
      "collapsed_sections": [],
      "name": "Practice_10-11_KM_01_.ipynb",
      "provenance": []
    },
    "kernelspec": {
      "display_name": "Python 3",
      "name": "python3"
    },
    "language_info": {
      "codemirror_mode": {
        "name": "ipython",
        "version": 3
      },
      "file_extension": ".py",
      "mimetype": "text/x-python",
      "name": "python",
      "nbconvert_exporter": "python",
      "pygments_lexer": "ipython3",
      "version": "3.9.1"
    }
  },
  "nbformat": 4,
  "nbformat_minor": 0
}
